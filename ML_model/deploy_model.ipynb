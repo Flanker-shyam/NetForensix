{
 "cells": [
  {
   "cell_type": "code",
   "execution_count": 1,
   "metadata": {},
   "outputs": [],
   "source": [
    "from sklearn.ensemble import RandomForestClassifier\n",
    "import pandas as pd\n",
    "from sklearn.model_selection import train_test_split\n",
    "from sklearn.metrics import accuracy_score\n",
    "import joblib\n",
    "from sklearn.preprocessing import LabelEncoder"
   ]
  },
  {
   "cell_type": "code",
   "execution_count": 2,
   "metadata": {},
   "outputs": [],
   "source": [
    "df = pd.read_csv('final_with_19.csv')"
   ]
  },
  {
   "cell_type": "code",
   "execution_count": 3,
   "metadata": {},
   "outputs": [
    {
     "data": {
      "text/plain": [
       "target\n",
       "BENIGN                        500000\n",
       "DoS Hulk                      200000\n",
       "DDoS                          150000\n",
       "PortScan                      100000\n",
       "DoS GoldenEye                  10000\n",
       "DoS Slowhttptest                7000\n",
       "DoS slowloris                   7000\n",
       "FTP-Patator                     7000\n",
       "SSH-Patator                     5000\n",
       "Bot                             3000\n",
       "Web Attack � Brute Force        2000\n",
       "Heartbleed                      1500\n",
       "Infiltration                    1500\n",
       "Web Attack � Sql Injection      1500\n",
       "Web Attack � XSS                1500\n",
       "Name: count, dtype: int64"
      ]
     },
     "execution_count": 3,
     "metadata": {},
     "output_type": "execute_result"
    }
   ],
   "source": [
    "df['target'].value_counts()"
   ]
  },
  {
   "cell_type": "code",
   "execution_count": 4,
   "metadata": {},
   "outputs": [
    {
     "data": {
      "text/plain": [
       "target\n",
       "0     500000\n",
       "4     200000\n",
       "2     150000\n",
       "10    100000\n",
       "3      10000\n",
       "5       7000\n",
       "6       7000\n",
       "7       7000\n",
       "11      5000\n",
       "1       3000\n",
       "12      2000\n",
       "8       1500\n",
       "9       1500\n",
       "13      1500\n",
       "14      1500\n",
       "Name: count, dtype: int64"
      ]
     },
     "execution_count": 4,
     "metadata": {},
     "output_type": "execute_result"
    }
   ],
   "source": [
    "en = LabelEncoder()\n",
    "df['target'] = en.fit_transform(df['target'])\n",
    "df['target'].value_counts()"
   ]
  },
  {
   "cell_type": "code",
   "execution_count": 5,
   "metadata": {},
   "outputs": [
    {
     "data": {
      "text/plain": [
       "0.9939418254764293"
      ]
     },
     "execution_count": 5,
     "metadata": {},
     "output_type": "execute_result"
    }
   ],
   "source": [
    "target = df['target']\n",
    "features = df.drop(['target'], axis =1)\n",
    "\n",
    "# Split data into training and testing sets using 80/20 ratio\n",
    "trainX, testX, trainY, testY = train_test_split(features, target, test_size=.30, random_state=30)\n",
    "\n",
    "model = RandomForestClassifier(max_depth=None,min_samples_leaf=1,min_samples_split=2,n_estimators=150)\n",
    "\n",
    "model.fit(trainX, trainY)\n",
    "predictions = model.predict(testX)\n",
    "\n",
    "score = accuracy_score(testY,predictions)\n",
    "\n",
    "score"
   ]
  },
  {
   "cell_type": "code",
   "execution_count": 6,
   "metadata": {},
   "outputs": [
    {
     "data": {
      "text/plain": [
       "['saved_model.pkl']"
      ]
     },
     "execution_count": 6,
     "metadata": {},
     "output_type": "execute_result"
    }
   ],
   "source": [
    "# Assuming you have a trained model named 'model'\n",
    "joblib.dump(model, 'saved_model.pkl')"
   ]
  }
 ],
 "metadata": {
  "kernelspec": {
   "display_name": "Python 3 (ipykernel)",
   "language": "python",
   "name": "python3"
  },
  "language_info": {
   "codemirror_mode": {
    "name": "ipython",
    "version": 3
   },
   "file_extension": ".py",
   "mimetype": "text/x-python",
   "name": "python",
   "nbconvert_exporter": "python",
   "pygments_lexer": "ipython3",
   "version": "3.10.6"
  }
 },
 "nbformat": 4,
 "nbformat_minor": 2
}
